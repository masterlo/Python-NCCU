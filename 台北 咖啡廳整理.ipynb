{
 "cells": [
  {
   "cell_type": "code",
   "execution_count": 1,
   "metadata": {},
   "outputs": [],
   "source": [
    "%matplotlib inline\n",
    "\n",
    "import numpy as np\n",
    "import matplotlib.pyplot as plt\n",
    "import pandas as pd"
   ]
  },
  {
   "cell_type": "code",
   "execution_count": 7,
   "metadata": {},
   "outputs": [],
   "source": [
    "df_tmp = pd.read_html('https://cafenomad.tw/taipei/list')"
   ]
  },
  {
   "cell_type": "code",
   "execution_count": 8,
   "metadata": {},
   "outputs": [
    {
     "data": {
      "text/plain": [
       "1"
      ]
     },
     "execution_count": 8,
     "metadata": {},
     "output_type": "execute_result"
    }
   ],
   "source": [
    "len(df_tmp)"
   ]
  },
  {
   "cell_type": "code",
   "execution_count": 9,
   "metadata": {},
   "outputs": [],
   "source": [
    "df = df_tmp[0]"
   ]
  },
  {
   "cell_type": "code",
   "execution_count": 10,
   "metadata": {},
   "outputs": [
    {
     "data": {
      "text/html": [
       "<div>\n",
       "<style scoped>\n",
       "    .dataframe tbody tr th:only-of-type {\n",
       "        vertical-align: middle;\n",
       "    }\n",
       "\n",
       "    .dataframe tbody tr th {\n",
       "        vertical-align: top;\n",
       "    }\n",
       "\n",
       "    .dataframe thead th {\n",
       "        text-align: right;\n",
       "    }\n",
       "</style>\n",
       "<table border=\"1\" class=\"dataframe\">\n",
       "  <thead>\n",
       "    <tr style=\"text-align: right;\">\n",
       "      <th></th>\n",
       "      <th>店名</th>\n",
       "      <th>wifi 穩定</th>\n",
       "      <th>通常有位</th>\n",
       "      <th>安靜程度</th>\n",
       "      <th>咖啡好喝</th>\n",
       "      <th>東西好吃</th>\n",
       "      <th>價格便宜</th>\n",
       "      <th>裝潢音樂</th>\n",
       "      <th>捷運站</th>\n",
       "      <th>營業時間</th>\n",
       "      <th>有賣單品</th>\n",
       "      <th>有賣甜點</th>\n",
       "      <th>有賣正餐</th>\n",
       "      <th>有無限時</th>\n",
       "      <th>插座多</th>\n",
       "      <th>可站立工作</th>\n",
       "    </tr>\n",
       "  </thead>\n",
       "  <tbody>\n",
       "    <tr>\n",
       "      <th>0</th>\n",
       "      <td>喝咖啡 JYUN CAFE</td>\n",
       "      <td>5.0 ★</td>\n",
       "      <td>5.0 ★</td>\n",
       "      <td>5.0 ★</td>\n",
       "      <td>5.0 ★</td>\n",
       "      <td>5.0 ★</td>\n",
       "      <td>5.0 ★</td>\n",
       "      <td>5.0 ★</td>\n",
       "      <td>NaN</td>\n",
       "      <td>今日未營業</td>\n",
       "      <td>Yes</td>\n",
       "      <td>Yes</td>\n",
       "      <td>NaN</td>\n",
       "      <td>No</td>\n",
       "      <td>看座位</td>\n",
       "      <td>No</td>\n",
       "    </tr>\n",
       "    <tr>\n",
       "      <th>1</th>\n",
       "      <td>NEW  Coffee Boy Hop Man</td>\n",
       "      <td>5.0 ★</td>\n",
       "      <td>5.0 ★</td>\n",
       "      <td>4.0 ★</td>\n",
       "      <td>5.0 ★</td>\n",
       "      <td>5.0 ★</td>\n",
       "      <td>3.0 ★</td>\n",
       "      <td>4.0 ★</td>\n",
       "      <td>NaN</td>\n",
       "      <td>NaN</td>\n",
       "      <td>NaN</td>\n",
       "      <td>NaN</td>\n",
       "      <td>NaN</td>\n",
       "      <td>NaN</td>\n",
       "      <td>NaN</td>\n",
       "      <td>NaN</td>\n",
       "    </tr>\n",
       "    <tr>\n",
       "      <th>2</th>\n",
       "      <td>NEW  風曜咖啡坊</td>\n",
       "      <td>5.0 ★</td>\n",
       "      <td>5.0 ★</td>\n",
       "      <td>5.0 ★</td>\n",
       "      <td>5.0 ★</td>\n",
       "      <td>5.0 ★</td>\n",
       "      <td>5.0 ★</td>\n",
       "      <td>5.0 ★</td>\n",
       "      <td>大安站</td>\n",
       "      <td>10:00 - 19:00</td>\n",
       "      <td>Yes</td>\n",
       "      <td>Yes</td>\n",
       "      <td>No</td>\n",
       "      <td>No</td>\n",
       "      <td>Yes</td>\n",
       "      <td>Yes</td>\n",
       "    </tr>\n",
       "    <tr>\n",
       "      <th>3</th>\n",
       "      <td>NEW  七刀space</td>\n",
       "      <td>5.0 ★</td>\n",
       "      <td>5.0 ★</td>\n",
       "      <td>5.0 ★</td>\n",
       "      <td>5.0 ★</td>\n",
       "      <td>NaN</td>\n",
       "      <td>5.0 ★</td>\n",
       "      <td>5.0 ★</td>\n",
       "      <td>NaN</td>\n",
       "      <td>NaN</td>\n",
       "      <td>No</td>\n",
       "      <td>No</td>\n",
       "      <td>No</td>\n",
       "      <td>NaN</td>\n",
       "      <td>看座位</td>\n",
       "      <td>Yes</td>\n",
       "    </tr>\n",
       "    <tr>\n",
       "      <th>4</th>\n",
       "      <td>蜂巢咖啡</td>\n",
       "      <td>NaN</td>\n",
       "      <td>4.5 ★</td>\n",
       "      <td>3.0 ★</td>\n",
       "      <td>5.0 ★</td>\n",
       "      <td>5.0 ★</td>\n",
       "      <td>4.0 ★</td>\n",
       "      <td>4.0 ★</td>\n",
       "      <td>永安市場站</td>\n",
       "      <td>09:00 - 20:00</td>\n",
       "      <td>Yes</td>\n",
       "      <td>Yes</td>\n",
       "      <td>No</td>\n",
       "      <td>No</td>\n",
       "      <td>No</td>\n",
       "      <td>Yes</td>\n",
       "    </tr>\n",
       "  </tbody>\n",
       "</table>\n",
       "</div>"
      ],
      "text/plain": [
       "                        店名 wifi 穩定   通常有位   安靜程度   咖啡好喝   東西好吃   價格便宜   裝潢音樂  \\\n",
       "0            喝咖啡 JYUN CAFE   5.0 ★  5.0 ★  5.0 ★  5.0 ★  5.0 ★  5.0 ★  5.0 ★   \n",
       "1  NEW  Coffee Boy Hop Man   5.0 ★  5.0 ★  4.0 ★  5.0 ★  5.0 ★  3.0 ★  4.0 ★   \n",
       "2               NEW  風曜咖啡坊   5.0 ★  5.0 ★  5.0 ★  5.0 ★  5.0 ★  5.0 ★  5.0 ★   \n",
       "3             NEW  七刀space   5.0 ★  5.0 ★  5.0 ★  5.0 ★    NaN  5.0 ★  5.0 ★   \n",
       "4                     蜂巢咖啡     NaN  4.5 ★  3.0 ★  5.0 ★  5.0 ★  4.0 ★  4.0 ★   \n",
       "\n",
       "     捷運站           營業時間 有賣單品 有賣甜點 有賣正餐 有無限時  插座多 可站立工作  \n",
       "0    NaN          今日未營業  Yes  Yes  NaN   No  看座位    No  \n",
       "1    NaN            NaN  NaN  NaN  NaN  NaN  NaN   NaN  \n",
       "2    大安站  10:00 - 19:00  Yes  Yes   No   No  Yes   Yes  \n",
       "3    NaN            NaN   No   No   No  NaN  看座位   Yes  \n",
       "4  永安市場站  09:00 - 20:00  Yes  Yes   No   No   No   Yes  "
      ]
     },
     "execution_count": 10,
     "metadata": {},
     "output_type": "execute_result"
    }
   ],
   "source": [
    "df.head()"
   ]
  },
  {
   "cell_type": "code",
   "execution_count": null,
   "metadata": {},
   "outputs": [],
   "source": []
  }
 ],
 "metadata": {
  "kernelspec": {
   "display_name": "Python 3",
   "language": "python",
   "name": "python3"
  },
  "language_info": {
   "codemirror_mode": {
    "name": "ipython",
    "version": 3
   },
   "file_extension": ".py",
   "mimetype": "text/x-python",
   "name": "python",
   "nbconvert_exporter": "python",
   "pygments_lexer": "ipython3",
   "version": "3.6.5"
  }
 },
 "nbformat": 4,
 "nbformat_minor": 2
}
