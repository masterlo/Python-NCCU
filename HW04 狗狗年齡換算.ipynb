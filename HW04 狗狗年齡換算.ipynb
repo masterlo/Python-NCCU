{
 "cells": [
  {
   "cell_type": "code",
   "execution_count": 1,
   "metadata": {},
   "outputs": [],
   "source": [
    "%matplotlib inline\n",
    "\n",
    "import numpy as np\n",
    "import matplotlib.pyplot as plt"
   ]
  },
  {
   "cell_type": "code",
   "execution_count": 2,
   "metadata": {},
   "outputs": [],
   "source": [
    "from ipywidgets import interact"
   ]
  },
  {
   "cell_type": "code",
   "execution_count": 3,
   "metadata": {},
   "outputs": [
    {
     "name": "stdout",
     "output_type": "stream",
     "text": [
      "你的狗幾歲？3\n",
      "你的狗狗相當於人類年齡28歲了！\n"
     ]
    }
   ],
   "source": [
    "age = input(\"你的狗幾歲？\")\n",
    "\n",
    "if \"0\"<age<= \"0.5\":\n",
    "    print(\"你的狗狗相當於人類年齡10歲了！\")\n",
    "elif \"0.5\"<age<= \"1\":\n",
    "    print(\"你的狗狗相當於人類年齡16歲了！\")\n",
    "elif \"1\"<age<= \"1.5\":\n",
    "    print(\"你的狗狗相當於人類年齡20歲了！\")\n",
    "elif \"1.5\"<age<= \"2\":\n",
    "    print(\"你的狗狗相當於人類年齡24歲了！\")\n",
    "elif \"2\"<age<= \"3\":\n",
    "    print(\"你的狗狗相當於人類年齡28歲了！\")\n",
    "elif \"3\"<age<= \"4\":\n",
    "    print(\"你的狗狗相當於人類年齡32歲了！\")\n",
    "elif \"4\"<age<= \"5\":\n",
    "    print(\"你的狗狗相當於人類年齡37歲了！\")\n",
    "elif \"5\"<age<= \"6\":\n",
    "    print(\"你的狗狗相當於人類年齡42歲了！\")\n",
    "elif \"6\"<age<= \"7\":\n",
    "    print(\"你的狗狗相當於人類年齡46歲了！\")\n",
    "elif \"7\"<age<= \"8\":\n",
    "    print(\"你的狗狗相當於人類年齡51歲了！\")\n",
    "elif \"8\"<age<= \"9\":\n",
    "    print(\"你的狗狗相當於人類年齡55歲了！\")\n",
    "elif \"9\"<age<= \"10\":\n",
    "    print(\"你的狗狗相當於人類年齡59歲了！\")\n",
    "elif \"10\"<age<= \"11\":\n",
    "    print(\"你的狗狗相當於人類年齡64歲了！\")\n",
    "elif \"11\"<age<= \"12\":\n",
    "    print(\"你的狗狗相當於人類年齡68歲了！\")\n",
    "elif \"12\"<age<= \"13\":\n",
    "    print(\"你的狗狗相當於人類年齡73歲了！\")\n",
    "elif \"13\"<age<= \"14\":\n",
    "    print(\"你的狗狗相當於人類年齡77歲了！\")\n",
    "elif \"14\"<age<= \"15\":\n",
    "    print(\"你的狗狗相當於人類年齡82歲了！\")\n",
    "elif \"15\"<age<= \"16\":\n",
    "    print(\"你的狗狗相當於人類年齡88歲了！\")\n",
    "else:\n",
    "    print(\"輸入有誤！\")"
   ]
  },
  {
   "cell_type": "code",
   "execution_count": null,
   "metadata": {},
   "outputs": [],
   "source": []
  }
 ],
 "metadata": {
  "kernelspec": {
   "display_name": "Python 3",
   "language": "python",
   "name": "python3"
  },
  "language_info": {
   "codemirror_mode": {
    "name": "ipython",
    "version": 3
   },
   "file_extension": ".py",
   "mimetype": "text/x-python",
   "name": "python",
   "nbconvert_exporter": "python",
   "pygments_lexer": "ipython3",
   "version": "3.6.5"
  }
 },
 "nbformat": 4,
 "nbformat_minor": 2
}
