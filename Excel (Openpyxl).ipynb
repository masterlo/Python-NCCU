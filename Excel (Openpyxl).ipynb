{
 "cells": [
  {
   "cell_type": "markdown",
   "metadata": {},
   "source": [
    "# 今天要介紹 Openpyxl !!!"
   ]
  },
  {
   "cell_type": "markdown",
   "metadata": {},
   "source": [
    "# 前言\n",
    " * Excel 是市佔率最高的試算表軟體\n",
    " * Python 最大的應用場景就是做資料處理\n",
    " \n",
    "  如果能將 Excel 和 Python 整合就太棒了！"
   ]
  },
  {
   "cell_type": "markdown",
   "metadata": {},
   "source": [
    "## Excel 最重要的功能之一：VBA語言\n",
    "\n",
    "使用者雖然能夠用 VBA 這個程式語言客製化出符合你個人需求的一些巨集或是函數，也可以幫助使用者自動化很多和 Excel 相關的工作流程。\n",
    "\n",
    "但是，畢竟 VBA 是個冷門的程式語言，VBA 程式語言相關的文件、書籍、與訓練課程非常少它除了開發和客製化與微軟應用程式相關的功能外，完全沒有其他的用處\n"
   ]
  },
  {
   "cell_type": "markdown",
   "metadata": {},
   "source": [
    "### 小知識複習"
   ]
  },
  {
   "cell_type": "markdown",
   "metadata": {},
   "source": [
    "Excel 是一個以表為基本結構的工具，這個表可以是一個儲存格(Cell)、或是多個儲存格，也就是一個陣列 (Range) ，這樣的一個陣列就適合用來表示一個數列、向量、或是矩陣。"
   ]
  },
  {
   "cell_type": "markdown",
   "metadata": {},
   "source": [
    "##### 這是一個儲存格 (Cell)"
   ]
  },
  {
   "cell_type": "markdown",
   "metadata": {},
   "source": [
    "![這是一個儲存格 (Cell)](這是一個儲存格.png)"
   ]
  },
  {
   "cell_type": "markdown",
   "metadata": {},
   "source": [
    "##### 這是一個 Excel 的陣列 (Range)"
   ]
  },
  {
   "cell_type": "markdown",
   "metadata": {},
   "source": [
    "![這是一個 Excel 的陣列 (Range)](這是一個 Excel 的陣列.png)"
   ]
  },
  {
   "cell_type": "markdown",
   "metadata": {},
   "source": [
    "儲存在 Excel 的資料必須遵循橫豎結構，所以資料的維度不會超過二"
   ]
  },
  {
   "cell_type": "markdown",
   "metadata": {},
   "source": [
    "##### 這是一個 Excel 的二維陣列"
   ]
  },
  {
   "cell_type": "markdown",
   "metadata": {},
   "source": [
    "![這是一個 Excel 的二維陣列](這是一個 Excel 的二維陣列.png)"
   ]
  },
  {
   "cell_type": "markdown",
   "metadata": {},
   "source": [
    "##### 先去 excel 操作一遍平常大家怎麼用 excel 的！！！"
   ]
  },
  {
   "cell_type": "markdown",
   "metadata": {},
   "source": [
    "##  Openpyxl"
   ]
  },
  {
   "cell_type": "markdown",
   "metadata": {},
   "source": [
    "## 實際演練"
   ]
  },
  {
   "cell_type": "markdown",
   "metadata": {},
   "source": [
    "##### 在終端機安裝 openpyxl \n",
    "\n",
    "conda install openpyxl"
   ]
  },
  {
   "cell_type": "markdown",
   "metadata": {},
   "source": [
    "#### 以下提供兩個範例"
   ]
  },
  {
   "cell_type": "markdown",
   "metadata": {},
   "source": [
    "##### 第一步，先把要用的 excel 檔案放到資料夾中"
   ]
  },
  {
   "cell_type": "markdown",
   "metadata": {},
   "source": [
    "##### 1. 在儲存格中輸入\"Hello world\""
   ]
  },
  {
   "cell_type": "code",
   "execution_count": 2,
   "metadata": {},
   "outputs": [],
   "source": [
    "import openpyxl\n",
    "import os\n",
    "\n",
    "# os.chdir 是 python 切換到電腦指定路徑的方法\n",
    "os.chdir(r\"/Users/loyucheng/Desktop/NCCU_Python\")\n",
    "\n",
    "# 開啓名爲 “Myfirstsample” 的 excel 檔案，存入 workbook 這個變數中\n",
    "workbook = openpyxl.load_workbook('Myfirstsample.xlsx')\n",
    "\n",
    "# 從 workbook 中開啓一個名爲 'HelloWorld' 的工作表，存入 sheet 變數\n",
    "sheet = workbook['Helloworld']\n",
    "\n",
    "# 把 “Hello World!” 這個字串賦值到 row 為 1, column 為 1 的,也就是儲存格 A1\n",
    "sheet.cell(row=1, column=1).value = \"Hello World!\"\n",
    "\n",
    "# 存檔\n",
    "workbook.save('Myfirstsample.xlsx')"
   ]
  },
  {
   "cell_type": "markdown",
   "metadata": {},
   "source": [
    "##### 2. 寫個函數！算日報酬率！"
   ]
  },
  {
   "cell_type": "code",
   "execution_count": 3,
   "metadata": {},
   "outputs": [],
   "source": [
    "import openpyxl\n",
    "import os\n",
    "\n",
    "# os.chdir 是 python 切換到電腦指定路徑的方法\n",
    "os.chdir(r\"/Users/loyucheng/Desktop/NCCU_Python\")\n",
    "\n",
    "# 開啓名爲 “Myfirstsample” 的 excel 檔案，存入 workbook 這個變數中\n",
    "workbook = openpyxl.load_workbook('Myfirstsample.xlsx')\n",
    "\n",
    "# 從 workbook 中開啓一個名爲 Stock 的工作表，存入 sheet 變數\n",
    "sheet = workbook['Stock']\n"
   ]
  },
  {
   "cell_type": "code",
   "execution_count": 4,
   "metadata": {},
   "outputs": [],
   "source": [
    "# 從第三列開始 (我們的日報酬率至少需要兩天的資料，因此從第二天開始算)，到第 21 列\n",
    "for i in range(3, 21):\n",
    "    # 截取 column 值為 2，也就是欄為 B 的儲存格\n",
    "    price_today = sheet.cell(row=i, column=2).value \n",
    "    # 截取 column 值為 2 (也就是欄為 B 的儲存格) 但是上一列，也就是昨天的收盤價\n",
    "    price_yesterday = sheet.cell(row=i-1, column=2).value \n",
    "    # 截取出兩者後，就可以算出該筆資料的日報酬率了\n",
    "    daily_return = (price_today-price_yesterday)/price_yesterday\n",
    "    # 最後再將算出的日報酬率寫入同一列，但是 column 值為 3 的儲存格 (也就是欄為 C 的儲存格)\n",
    "    sheet.cell(row=i, column=3).value = daily_return"
   ]
  },
  {
   "cell_type": "code",
   "execution_count": 5,
   "metadata": {},
   "outputs": [],
   "source": [
    "# 存檔\n",
    "workbook.save('Myfirstsample.xlsx')"
   ]
  },
  {
   "cell_type": "markdown",
   "metadata": {},
   "source": [
    "##### 大家一定會覺得在 Excel 上面操作做的好好的幹嘛搞這個！\n",
    "##### 但是如果 ......."
   ]
  },
  {
   "cell_type": "markdown",
   "metadata": {},
   "source": [
    "##### 如果每天都需要計算每一支股票的報酬率"
   ]
  },
  {
   "cell_type": "markdown",
   "metadata": {},
   "source": [
    "##### 而這個時候輸入 10 到 20 次同樣的公式並且下拉一次就變成了一件重複又繁瑣的事"
   ]
  },
  {
   "cell_type": "markdown",
   "metadata": {},
   "source": [
    "##### 我們不應該將自己寶貴的時間和注意力浪費在這樣的事情上！"
   ]
  },
  {
   "cell_type": "code",
   "execution_count": null,
   "metadata": {},
   "outputs": [],
   "source": []
  }
 ],
 "metadata": {
  "kernelspec": {
   "display_name": "Python 3",
   "language": "python",
   "name": "python3"
  },
  "language_info": {
   "codemirror_mode": {
    "name": "ipython",
    "version": 3
   },
   "file_extension": ".py",
   "mimetype": "text/x-python",
   "name": "python",
   "nbconvert_exporter": "python",
   "pygments_lexer": "ipython3",
   "version": "3.6.5"
  }
 },
 "nbformat": 4,
 "nbformat_minor": 2
}
