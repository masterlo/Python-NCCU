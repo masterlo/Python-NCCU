{
 "cells": [
  {
   "cell_type": "code",
   "execution_count": null,
   "metadata": {},
   "outputs": [
    {
     "name": "stdout",
     "output_type": "stream",
     "text": [
      "您現在在 5 樓。請問要去哪一樓？\n",
      ">>10\n",
      "電梯上樓\n",
      "5\n",
      "6\n",
      "7\n",
      "8\n",
      "9\n",
      "10\n",
      "您現在在 10 樓。請問要去哪一樓？\n",
      ">>8\n",
      "電梯下樓\n",
      "10\n",
      "9\n",
      "8\n",
      "您現在在 8 樓。請問要去哪一樓？\n",
      ">>2\n",
      "電梯下樓\n",
      "8\n",
      "7\n",
      "6\n",
      "5\n",
      "4\n",
      "3\n",
      "2\n",
      "您現在在 2 樓。請問要去哪一樓？\n",
      ">>77\n",
      "請輸入介於 1-10 的整數\n",
      "\n"
     ]
    }
   ],
   "source": [
    "from time import sleep\n",
    " \n",
    "current_floor = 5\n",
    " \n",
    "while True:\n",
    "    target_floor = input('您現在在 ' + str(current_floor) + ' 樓。請問要去哪一樓？\\n>>')\n",
    "    try:\n",
    "        target_floor = int(target_floor)\n",
    "    except ValueError:\n",
    "        print('格式錯誤，請輸入數字\\n')\n",
    "        continue\n",
    "    if target_floor < 1 or target_floor > 10:\n",
    "        print('請輸入介於 1-10 的整數\\n')\n",
    "        continue\n",
    "    \n",
    "    if target_floor == current_floor:\n",
    "        continue\n",
    "    \n",
    "    elif target_floor < current_floor:\n",
    "        print('電梯下樓')\n",
    "        while target_floor < current_floor:\n",
    "            print(current_floor)\n",
    "            current_floor = current_floor - 1\n",
    "            sleep(0.5)\n",
    "        print(current_floor)\n",
    "    \n",
    "    else:\n",
    "        print('電梯上樓')\n",
    "        while target_floor > current_floor:\n",
    "            print(current_floor)\n",
    "            current_floor = current_floor + 1\n",
    "            sleep(0.5)\n",
    "        print(current_floor)"
   ]
  },
  {
   "cell_type": "code",
   "execution_count": null,
   "metadata": {},
   "outputs": [],
   "source": []
  }
 ],
 "metadata": {
  "kernelspec": {
   "display_name": "Python 3",
   "language": "python",
   "name": "python3"
  },
  "language_info": {
   "codemirror_mode": {
    "name": "ipython",
    "version": 3
   },
   "file_extension": ".py",
   "mimetype": "text/x-python",
   "name": "python",
   "nbconvert_exporter": "python",
   "pygments_lexer": "ipython3",
   "version": "3.6.5"
  }
 },
 "nbformat": 4,
 "nbformat_minor": 2
}
